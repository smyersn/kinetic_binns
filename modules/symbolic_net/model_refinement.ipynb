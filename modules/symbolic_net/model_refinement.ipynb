{
 "cells": [
  {
   "cell_type": "code",
   "execution_count": 4,
   "metadata": {},
   "outputs": [],
   "source": [
    "import sys, os\n",
    "repo_start = f'../../'\n",
    "sys.path.append(repo_start)\n",
    "\n",
    "from modules.utils.imports import *\n",
    "from modules.symbolic_net.model_wrapper import model_wrapper\n",
    "from modules.symbolic_net.build_symbolic_net import symbolic_net\n",
    "from modules.utils.training_test_split import training_test_split\n",
    "from modules.analysis.generate_loss_curves import generate_loss_curves\n",
    "from modules.loaders.format_data import format_data_general\n",
    "from modules.generate_data.simulate_system import reaction\n",
    "from modules.symbolic_net.write_terms import write_terms\n",
    "from modules.symbolic_net.visualize_surface import visualize_surface"
   ]
  },
  {
   "cell_type": "code",
   "execution_count": null,
   "metadata": {},
   "outputs": [],
   "source": [
    "dir_name = ''"
   ]
  },
  {
   "cell_type": "code",
   "execution_count": null,
   "metadata": {},
   "outputs": [],
   "source": [
    "# Load model for analaysis\n",
    "model.load(f\"{dir_name}/binn_best_val_model\", device=device)\n",
    "\n",
    "# Write terms\n",
    "fn = f'{dir_name}/equation.txt'\n",
    "file = open(fn, 'w')\n",
    "terms = write_terms(model.model.individual)\n",
    "\n",
    "for term in terms:\n",
    "    file.write(f'{term}\\n')\n",
    "\n",
    "file.close()"
   ]
  }
 ],
 "metadata": {
  "kernelspec": {
   "display_name": "binns",
   "language": "python",
   "name": "python3"
  },
  "language_info": {
   "codemirror_mode": {
    "name": "ipython",
    "version": 3
   },
   "file_extension": ".py",
   "mimetype": "text/x-python",
   "name": "python",
   "nbconvert_exporter": "python",
   "pygments_lexer": "ipython3",
   "version": "3.11.3"
  }
 },
 "nbformat": 4,
 "nbformat_minor": 2
}
